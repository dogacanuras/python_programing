{
 "cells": [
  {
   "cell_type": "code",
   "execution_count": 21,
   "id": "342abfc7",
   "metadata": {},
   "outputs": [
    {
     "name": "stdout",
     "output_type": "stream",
     "text": [
      "Hello, \n",
      "I'm Doga Can Uras, \n",
      "I'm 23 years old.\n",
      "Hello, \tI'm Doga Can Uras, \tI'm 23 years old.\n"
     ]
    }
   ],
   "source": [
    "print(\"Hello, \\nI'm Doga Can Uras, \\nI'm 23 years old.\")\n",
    "print(\"Hello, \\tI'm Doga Can Uras, \\tI'm 23 years old.\")"
   ]
  },
  {
   "cell_type": "code",
   "execution_count": 14,
   "id": "31f63482",
   "metadata": {
    "scrolled": true
   },
   "outputs": [
    {
     "name": "stdout",
     "output_type": "stream",
     "text": [
      "My name is Doga Can\n",
      "My name is Doga Can, my age 23\n",
      "My name is Doga Can, my age 23\n",
      "My name is 23, my age Doga Can\n",
      "My name is Doga Can, my age 23\n",
      "My name is Doga Can, my age 23\n"
     ]
    }
   ],
   "source": [
    "print(\"My name is {}\".format('Doga Can'))\n",
    "print(\"My name is {}, my age {}\".format('Doga Can', 23))\n",
    "\n",
    "print(\"My name is {0}, my age {1}\".format('Doga Can', 23))\n",
    "print(\"My name is {1}, my age {0}\".format('Doga Can', 23))\n",
    "\n",
    "print(\"My name is {name}, my age {age}\".format(name = 'Doga Can', age = 23))\n",
    "print(\"My name is {name}, my age {age}\".format(age = 23, name = 'Doga Can'))"
   ]
  }
 ],
 "metadata": {
  "kernelspec": {
   "display_name": "Python 3 (ipykernel)",
   "language": "python",
   "name": "python3"
  },
  "language_info": {
   "codemirror_mode": {
    "name": "ipython",
    "version": 3
   },
   "file_extension": ".py",
   "mimetype": "text/x-python",
   "name": "python",
   "nbconvert_exporter": "python",
   "pygments_lexer": "ipython3",
   "version": "3.11.4"
  }
 },
 "nbformat": 4,
 "nbformat_minor": 5
}
